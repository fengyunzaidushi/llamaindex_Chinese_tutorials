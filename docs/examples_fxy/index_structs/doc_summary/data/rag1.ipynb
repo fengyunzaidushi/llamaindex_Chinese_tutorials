{
 "cells": [
  {
   "cell_type": "code",
   "execution_count": 6,
   "id": "4e8b3847-3ecd-400a-b3d7-7e35e46a7bb3",
   "metadata": {
    "execution": {
     "iopub.execute_input": "2024-01-03T09:02:38.351670Z",
     "iopub.status.busy": "2024-01-03T09:02:38.351136Z",
     "iopub.status.idle": "2024-01-03T09:03:05.063101Z",
     "shell.execute_reply": "2024-01-03T09:03:05.062481Z",
     "shell.execute_reply.started": "2024-01-03T09:02:38.351654Z"
    }
   },
   "outputs": [
    {
     "name": "stdout",
     "output_type": "stream",
     "text": [
      "\u001b[31mERROR: pip's dependency resolver does not currently take into account all the packages that are installed. This behaviour is the source of the following dependency conflicts.\n",
      "tokentrim 0.1.10 requires tiktoken<0.5.0,>=0.4.0, but you have tiktoken 0.5.1 which is incompatible.\u001b[0m\u001b[31m\n",
      "\u001b[0m\n",
      "\u001b[1m[\u001b[0m\u001b[34;49mnotice\u001b[0m\u001b[1;39;49m]\u001b[0m\u001b[39;49m A new release of pip is available: \u001b[0m\u001b[31;49m23.3.1\u001b[0m\u001b[39;49m -> \u001b[0m\u001b[32;49m23.3.2\u001b[0m\n",
      "\u001b[1m[\u001b[0m\u001b[34;49mnotice\u001b[0m\u001b[1;39;49m]\u001b[0m\u001b[39;49m To update, run: \u001b[0m\u001b[32;49mpip install --upgrade pip\u001b[0m\n"
     ]
    }
   ],
   "source": [
    "!pip3 install trafilatura -q"
   ]
  },
  {
   "cell_type": "code",
   "execution_count": 7,
   "id": "7f5136c7-b496-4221-b730-09436f7a610f",
   "metadata": {
    "execution": {
     "iopub.execute_input": "2024-01-03T09:03:12.088210Z",
     "iopub.status.busy": "2024-01-03T09:03:12.088045Z",
     "iopub.status.idle": "2024-01-03T09:03:12.817681Z",
     "shell.execute_reply": "2024-01-03T09:03:12.817114Z",
     "shell.execute_reply.started": "2024-01-03T09:03:12.088199Z"
    }
   },
   "outputs": [],
   "source": [
    "from llama_index.readers.web import TrafilaturaWebReader\n",
    " \n",
    "docs = TrafilaturaWebReader().load_data(\n",
    "         [\"https://baike.baidu.com/item/ChatGPT/62446358\",\n",
    "          \"https://baike.baidu.com/item/恐龙/139019\"]\n",
    ")"
   ]
  },
  {
   "cell_type": "code",
   "execution_count": 8,
   "id": "2bcc6478-f0df-454c-824d-873435b75801",
   "metadata": {
    "execution": {
     "iopub.execute_input": "2024-01-03T09:04:12.258812Z",
     "iopub.status.busy": "2024-01-03T09:04:12.258395Z",
     "iopub.status.idle": "2024-01-03T09:04:12.261296Z",
     "shell.execute_reply": "2024-01-03T09:04:12.260893Z",
     "shell.execute_reply.started": "2024-01-03T09:04:12.258796Z"
    }
   },
   "outputs": [
    {
     "name": "stdout",
     "output_type": "stream",
     "text": [
      "收藏\n",
      "查看我的收藏\n",
      "0有用+1\n",
      "ChatGPT（全名：Chat Generative Pre-trained Transformer），是OpenAI [1]研发的一款聊天机器人程序 [12]，于2022年11月30日发布 [2-3]。ChatGPT是人工智能技术驱动的自然语言处理工具，它能够基于在预训练阶段所见的模式和统计规律，来生成回答，还能根据聊天的上下文进行互动，真正像人类一样来聊天交流，甚至能完成撰写邮件、视频脚本、文案、翻译、代码，写论文 [21]等任务。 [2]\n",
      "2023年4月，中国支付清算协会倡议支付行业从业人员谨慎使用ChatGPT。 [42]\n",
      "2023年4月12日，此前临时禁止使用ChatGPT的意大利开出了解禁的条件，但13日，西班牙国家数据保护局和法国国家信息自由委员会分别宣布对ChatGPT展开调查。同日，欧洲数据保护委员会宣布成立专门工作组，以促进各国协同调查，并就各数据保护部可能采取的执法措施交流信息 [45]。\n",
      "- 软件名称\n",
      "- ChatGPT\n",
      "- 上线时间\n",
      "- 2022年12月 [34]\n",
      "- 最近更新时间\n",
      "- 2023年3月14日 [33]\n",
      "ChatGPT是美国人工智能研究实验室OpenAI新推出的一种人工智能技术驱动的自然语言处理工具，使用了Transformer神经网络架构，也是GPT-3.5架构，这是一种用于处理序列数据的模型，拥有语言理解和文本生成能力，尤其是它会通过连接大量的语料库来训练模型，这些语料库包含了真实世界中的对话，使得ChatGPT具备上知天文下知地理，还能根据聊天的上下文进行互动的能力，做到与真正人类几乎无异的聊天场景进行交流。ChatGPT不单是聊天机器人，还能进行撰写邮件、视频脚本、文案、翻译、代码等任务。 [2]\n",
      "在OpenAI的官网上，ChatGPT被描述为优化对话的语言模型，是GPT-3.5架构的主力模型。\n",
      "ChatGPT具有同类产品具备的一些特性，例如对话能力，能够在同一个会话期间内回答上下文相关的后续问题。然而，其在短时间内引爆全球的原因在于，在网友们晒出的截图中，ChatGPT不仅能流畅地与用户对话，甚至能写诗、撰文、编码。\n",
      "ChatGPT还采用了注重道德水平的训练方式，按照预先设计的道德准则，对不怀好意的提问和请求“说不”。一旦发现用户给出的文字提示里面含有恶意，包括但不限于暴力、歧视、犯罪\n"
     ]
    }
   ],
   "source": [
    "print(docs[0].text[:1000])"
   ]
  },
  {
   "cell_type": "code",
   "execution_count": null,
   "id": "340d031a-3f33-4b5b-b889-87d620a5b847",
   "metadata": {},
   "outputs": [],
   "source": [
    "response = query_engine.query(\"Rest of your query... \\nRespond in Italian\")"
   ]
  },
  {
   "cell_type": "code",
   "execution_count": null,
   "id": "6038e20b-4aa7-4f0c-acf5-8af6298a7066",
   "metadata": {},
   "outputs": [],
   "source": [
    "llm = OpenAI(system_prompt=\"Always respond in Italian.\")\n"
   ]
  },
  {
   "cell_type": "code",
   "execution_count": 9,
   "id": "01ead30b-c508-467b-b4ac-a86cd8876063",
   "metadata": {
    "execution": {
     "iopub.execute_input": "2024-01-03T09:05:09.364302Z",
     "iopub.status.busy": "2024-01-03T09:05:09.363839Z",
     "iopub.status.idle": "2024-01-03T09:05:09.586753Z",
     "shell.execute_reply": "2024-01-03T09:05:09.586235Z",
     "shell.execute_reply.started": "2024-01-03T09:05:09.364286Z"
    }
   },
   "outputs": [
    {
     "data": {
      "text/plain": [
       "SentenceSplitter(include_metadata=True, include_prev_next_rel=True, callback_manager=<llama_index.callbacks.base.CallbackManager object at 0x7fbcdf643280>, id_func=<function default_id_func at 0x7fbc387c2b90>, chunk_size=1024, chunk_overlap=200, separator=' ', paragraph_separator='\\n\\n\\n', secondary_chunking_regex='[^,.;。？！]+[,.;。？！]?')"
      ]
     },
     "execution_count": 9,
     "metadata": {},
     "output_type": "execute_result"
    }
   ],
   "source": [
    "from llama_index.node_parser import SimpleNodeParser\n",
    "from llama_index.schema import IndexNode\n",
    " \n",
    "#创建文档切割器\n",
    "node_parser = SimpleNodeParser.from_defaults(chunk_size=1024)\n",
    "node_parser"
   ]
  },
  {
   "cell_type": "code",
   "execution_count": 10,
   "id": "ebe2151c-71a7-4a3c-a13b-ced2059306ce",
   "metadata": {
    "execution": {
     "iopub.execute_input": "2024-01-03T09:05:29.478002Z",
     "iopub.status.busy": "2024-01-03T09:05:29.477751Z",
     "iopub.status.idle": "2024-01-03T09:05:29.531706Z",
     "shell.execute_reply": "2024-01-03T09:05:29.531318Z",
     "shell.execute_reply.started": "2024-01-03T09:05:29.477988Z"
    }
   },
   "outputs": [
    {
     "data": {
      "text/plain": [
       "40"
      ]
     },
     "execution_count": 10,
     "metadata": {},
     "output_type": "execute_result"
    }
   ],
   "source": [
    "base_nodes = node_parser.get_nodes_from_documents(docs)\n",
    " \n",
    "len(base_nodes)"
   ]
  },
  {
   "cell_type": "code",
   "execution_count": 12,
   "id": "18f0885e-3046-4300-8a03-65a59f93f83d",
   "metadata": {
    "execution": {
     "iopub.execute_input": "2024-01-03T09:07:45.540517Z",
     "iopub.status.busy": "2024-01-03T09:07:45.540285Z",
     "iopub.status.idle": "2024-01-03T09:07:45.543286Z",
     "shell.execute_reply": "2024-01-03T09:07:45.542961Z",
     "shell.execute_reply.started": "2024-01-03T09:07:45.540503Z"
    }
   },
   "outputs": [
    {
     "data": {
      "text/plain": [
       "TextNode(id_='5890ff5c-f883-482e-8eb7-fdb32cb43105', embedding=None, metadata={}, excluded_embed_metadata_keys=[], excluded_llm_metadata_keys=[], relationships={<NodeRelationship.SOURCE: '1'>: RelatedNodeInfo(node_id='25e650a2-ecdb-4237-9722-fec0f67afee7', node_type=<ObjectType.DOCUMENT: '4'>, metadata={}, hash='eadb39c895a0bba1e980f8f68f90a9f88dfcefff0033826864edeb650bae7d80'), <NodeRelationship.NEXT: '3'>: RelatedNodeInfo(node_id='6f0c404b-8006-4118-b27e-f6c30f0addc4', node_type=<ObjectType.TEXT: '1'>, metadata={}, hash='a719ff3a252730ef5538b172853eb44c529839ca53748e5fd785b44a15af41b4')}, hash='6e13bcb8a6a41c561f2824499b58c40e8c1efbd6e9d14832b544b776b62a40e7', text='收藏\\n查看我的收藏\\n0有用+1\\nChatGPT（全名：Chat Generative Pre-trained Transformer），是OpenAI [1]研发的一款聊天机器人程序 [12]，于2022年11月30日发布 [2-3]。ChatGPT是人工智能技术驱动的自然语言处理工具，它能够基于在预训练阶段所见的模式和统计规律，来生成回答，还能根据聊天的上下文进行互动，真正像人类一样来聊天交流，甚至能完成撰写邮件、视频脚本、文案、翻译、代码，写论文 [21]等任务。 [2]\\n2023年4月，中国支付清算协会倡议支付行业从业人员谨慎使用ChatGPT。 [42]\\n2023年4月12日，此前临时禁止使用ChatGPT的意大利开出了解禁的条件，但13日，西班牙国家数据保护局和法国国家信息自由委员会分别宣布对ChatGPT展开调查。同日，欧洲数据保护委员会宣布成立专门工作组，以促进各国协同调查，并就各数据保护部可能采取的执法措施交流信息 [45]。\\n- 软件名称\\n- ChatGPT\\n- 上线时间\\n- 2022年12月 [34]\\n- 最近更新时间\\n- 2023年3月14日 [33]\\nChatGPT是美国人工智能研究实验室OpenAI新推出的一种人工智能技术驱动的自然语言处理工具，使用了Transformer神经网络架构，也是GPT-3.5架构，这是一种用于处理序列数据的模型，拥有语言理解和文本生成能力，尤其是它会通过连接大量的语料库来训练模型，这些语料库包含了真实世界中的对话，使得ChatGPT具备上知天文下知地理，还能根据聊天的上下文进行互动的能力，做到与真正人类几乎无异的聊天场景进行交流。ChatGPT不单是聊天机器人，还能进行撰写邮件、视频脚本、文案、翻译、代码等任务。 [2]\\n在OpenAI的官网上，ChatGPT被描述为优化对话的语言模型，是GPT-3.5架构的主力模型。\\nChatGPT具有同类产品具备的一些特性，例如对话能力，能够在同一个会话期间内回答上下文相关的后续问题。然而，其在短时间内引爆全球的原因在于，在网友们晒出的截图中，ChatGPT不仅能流畅地与用户对话，甚至能写诗、撰文、编码。\\nChatGPT还采用了注重道德水平的训练方式，按照预先设计的道德准则，对不怀好意的提问和请求“说不”。一旦发现用户给出的文字提示里面含有恶意，包括但不限于暴力、歧视、犯罪等意图，都会拒绝提供有效答案。 [1]\\n2022年11月底，人工智能对话聊天机器人ChatGPT推出，迅速在社交媒体上走红，短短5天，注册用户数就超过100万。', start_char_idx=0, end_char_idx=1080, text_template='{metadata_str}\\n\\n{content}', metadata_template='{key}: {value}', metadata_seperator='\\n')"
      ]
     },
     "execution_count": 12,
     "metadata": {},
     "output_type": "execute_result"
    }
   ],
   "source": [
    "base_nodes[0]."
   ]
  },
  {
   "cell_type": "code",
   "execution_count": null,
   "id": "d7089ab1-4862-4ca6-9022-c82ac358f114",
   "metadata": {},
   "outputs": [],
   "source": []
  }
 ],
 "metadata": {
  "kernelspec": {
   "display_name": "Python 3 (ipykernel)",
   "language": "python",
   "name": "python3"
  },
  "language_info": {
   "codemirror_mode": {
    "name": "ipython",
    "version": 3
   },
   "file_extension": ".py",
   "mimetype": "text/x-python",
   "name": "python",
   "nbconvert_exporter": "python",
   "pygments_lexer": "ipython3",
   "version": "3.10.11"
  },
  "widgets": {
   "application/vnd.jupyter.widget-state+json": {
    "state": {},
    "version_major": 2,
    "version_minor": 0
   }
  }
 },
 "nbformat": 4,
 "nbformat_minor": 5
}
